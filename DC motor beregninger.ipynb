{
 "cells": [
  {
   "cell_type": "markdown",
   "metadata": {},
   "source": [
    "# Indledende beregninger til DC gearmotor"
   ]
  },
  {
   "cell_type": "markdown",
   "metadata": {},
   "source": [
    "Der indhentes først de nødvendige pakker:"
   ]
  },
  {
   "cell_type": "code",
   "execution_count": 43,
   "metadata": {},
   "outputs": [],
   "source": [
    "# pakke til enheder\n",
    "from pint import UnitRegistry\n",
    "unit = UnitRegistry()\n",
    "\n",
    "# pakke til matematik\n",
    "import math"
   ]
  },
  {
   "cell_type": "markdown",
   "metadata": {},
   "source": [
    "Der defineres nu de fra kravspecifikationen givne konstanter med enheder:"
   ]
  },
  {
   "cell_type": "code",
   "execution_count": 44,
   "metadata": {},
   "outputs": [
    {
     "name": "stdout",
     "output_type": "stream",
     "text": [
      "Linear speed = 0.2857142857142857 meter / second\n"
     ]
    }
   ],
   "source": [
    "# Mass to be lifted\n",
    "m = 30 * unit.[\"meter\"]\n",
    "\n",
    "# gravity\n",
    "g = 9.82 * unit[\"meter/second**2\"]\n",
    "\n",
    "# Speed\n",
    "v = 2/7 * unit[\"meter/second\"]\n",
    "print(\"Linear speed =\",v)\n",
    "\n",
    "#Diameter of coil\n",
    "d_coil = 60*10**-3 * unit[\"meter\"]\n",
    "\n",
    "# wire diameter\n",
    "d_wire = 1*10**-3 * unit[\"meter\"]\n",
    "\n",
    "# wire travel\n",
    "t = 2 * unit[\"meter\"]"
   ]
  },
  {
   "cell_type": "markdown",
   "metadata": {},
   "source": [
    "Kraften motoren skal overvinde, beregnes på baggrund af massen:"
   ]
  },
  {
   "cell_type": "code",
   "execution_count": 45,
   "metadata": {},
   "outputs": [
    {
     "name": "stdout",
     "output_type": "stream",
     "text": [
      "Force = 294.6 meter ** 2 / second ** 2\n"
     ]
    }
   ],
   "source": [
    "# Force\n",
    "F = m*g\n",
    "print(\"Force =\",F)"
   ]
  },
  {
   "cell_type": "markdown",
   "metadata": {},
   "source": [
    "Baseret på spolens diameter og den beregnede kraft, beregnes nu momentet motoren må yde:"
   ]
  },
  {
   "cell_type": "code",
   "execution_count": 46,
   "metadata": {},
   "outputs": [
    {
     "name": "stdout",
     "output_type": "stream",
     "text": [
      "Needed torque = 8.838000000000001 meter ** 3 / second ** 2\n"
     ]
    }
   ],
   "source": [
    "# Minimum torque motor must deliver\n",
    "T = F * d_coil/2\n",
    "print(\"Needed torque =\",T)"
   ]
  }
 ],
 "metadata": {
  "kernelspec": {
   "display_name": "Python 3",
   "language": "python",
   "name": "python3"
  },
  "language_info": {
   "codemirror_mode": {
    "name": "ipython",
    "version": 3
   },
   "file_extension": ".py",
   "mimetype": "text/x-python",
   "name": "python",
   "nbconvert_exporter": "python",
   "pygments_lexer": "ipython3",
   "version": "3.6.2"
  }
 },
 "nbformat": 4,
 "nbformat_minor": 2
}
